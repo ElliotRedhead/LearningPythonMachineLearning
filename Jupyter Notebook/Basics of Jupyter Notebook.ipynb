{
 "cells": [
  {
   "cell_type": "markdown",
   "id": "round-synthetic",
   "metadata": {},
   "source": [
    "# Basics of Jupyter Notebook\n",
    "\n",
    "The cell type can be modified by the dropdown in the Jupyter editor in the toolbar.<br>\n",
    "Use `<br>` to drop the following text to a new line.<br>\n",
    "To see syntax tips, type a function and press `SHIFT + TAB`.<br>\n",
    "Publish a section by pressing `CTRL + TAB`.<br>"
   ]
  },
  {
   "cell_type": "markdown",
   "id": "knowing-maine",
   "metadata": {},
   "source": [
    "## Examples of Python Code"
   ]
  },
  {
   "cell_type": "code",
   "execution_count": 1,
   "id": "present-benjamin",
   "metadata": {},
   "outputs": [
    {
     "name": "stdout",
     "output_type": "stream",
     "text": [
      "Hello, Elliot\n"
     ]
    }
   ],
   "source": [
    "my_name = \"Elliot\"\n",
    "hello_statement = f\"Hello, {my_name}\"\n",
    "print(hello_statement)"
   ]
  },
  {
   "cell_type": "code",
   "execution_count": 5,
   "id": "appreciated-pearl",
   "metadata": {},
   "outputs": [
    {
     "name": "stdout",
     "output_type": "stream",
     "text": [
      "i=1, x=2\n",
      "i=2, x=4\n",
      "i=3, x=7\n",
      "i=4, x=11\n"
     ]
    }
   ],
   "source": [
    "x = 1\n",
    "for i in range(1, 5):\n",
    "    x = x + i\n",
    "    print(f\"i={i}, x={x}\")"
   ]
  }
 ],
 "metadata": {
  "kernelspec": {
   "display_name": "Python 3",
   "language": "python",
   "name": "python3"
  },
  "language_info": {
   "codemirror_mode": {
    "name": "ipython",
    "version": 3
   },
   "file_extension": ".py",
   "mimetype": "text/x-python",
   "name": "python",
   "nbconvert_exporter": "python",
   "pygments_lexer": "ipython3",
   "version": "3.8.5"
  }
 },
 "nbformat": 4,
 "nbformat_minor": 5
}
