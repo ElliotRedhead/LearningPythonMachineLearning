{
 "cells": [
  {
   "cell_type": "markdown",
   "id": "supported-anthony",
   "metadata": {
    "slideshow": {
     "slide_type": "slide"
    }
   },
   "source": [
    "# Learning Machine Learning\n",
    "\n",
    "1. Asking the right question\n",
    "\n",
    "   Example: \"Predict if a person will develop diabetes.\"  \n",
    "   The question must direct and validate the work and should answer the following questions:\n",
    "\n",
    "   - What data do we gather?\n",
    "   - How do we mold the data?\n",
    "   - How do we interpret the solution?\n",
    "   - What criteria validates the solution?\n",
    "\n",
    "   A statement should be formed that defines an end goal, starting point and how to achieve the goal:\n",
    "\n",
    "   - Define the scope (including data sources)\n",
    "   - Define target performance measurements for the solution\n",
    "   - Determine the context for using the solution\n",
    "   - Define how the solution will be created\n",
    "\n",
    "  **Scope and Data Sources**\n",
    "\n",
    "  1. Understand the features in the data\n",
    "  2. Identify critical features\n",
    "  3. Focus on at-risk population\n",
    "  4. Select data source\n",
    "\n",
    "  The example of diabetes development is likely to be affected by a large number of factors e.g. age (older, more likely), race (African Americans, American Indians and Asian Americans, more likely).  \n",
    "  Race in this scenario could be used as a selector, selecting for one or more of the higher diabetes risk racial groups.  \n",
    "  The Pima Indian Diabetes study available from the UCI Machine Learning Repository would be a good data source for this purpose.  \n",
    "\n",
    "  The statement at this point would read: \"Using Pima Indian Diabetes data, predict which people will develop diabetes.\"  \n",
    "\n",
    "  **Performance Targets**  \n",
    "\n",
    "  1. Binary result (true or false)\n",
    "  2. Genetic differences are a factor\n",
    "  3. 70% accuracy is a common target (bottom of acceptable range)\n",
    "\n",
    "  The statement is refined to \"Using Pima Indian Diabetes data, predict with 70% or greater accuracy, which people will develop diabetes.\"  \n",
    "\n",
    "  **Context**\n",
    "\n",
    "  1. Disease prediction (What does it mean to predict disease?)\n",
    "  2. Medical research practices (What are common practices in this field?)  \n",
    "  3. Unknown variations between people\n",
    "  4. __Likelihood__ of disease is used\n",
    "\n",
    "  \"Using Pima Indian Diabetes data, predict with 70% or greater accuracy which people are likely to develop diabetes.\"  \n",
    "\n",
    "  **Solution Creation**\n",
    "\n",
    "  Using the Machine Learning Workflow:\n",
    "\n",
    "  1. Process the Pima Indian Data\n",
    "  2. Transform the data as required\n",
    "\n",
    "  \"Use the Machine Learning Workflow to process and transform Pima Indian data to create a prediction model. This model must predict which people are likely to develop diabetes with 70% or greater accuracy.\"\n",
    "  \n",
    "2. Preparing data\n",
    "3. Selecting the algorithm\n",
    "4. Training the model\n",
    "5. Testing the model\n"
   ]
  }
 ],
 "metadata": {
  "celltoolbar": "Slideshow",
  "kernelspec": {
   "display_name": "Python 3",
   "language": "python",
   "name": "python3"
  },
  "language_info": {
   "codemirror_mode": {
    "name": "ipython",
    "version": 3
   },
   "file_extension": ".py",
   "mimetype": "text/x-python",
   "name": "python",
   "nbconvert_exporter": "python",
   "pygments_lexer": "ipython3",
   "version": "3.8.5"
  }
 },
 "nbformat": 4,
 "nbformat_minor": 5
}
